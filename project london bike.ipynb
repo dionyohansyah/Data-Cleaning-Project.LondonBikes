{
 "cells": [
  {
   "cell_type": "code",
   "execution_count": 2,
   "metadata": {},
   "outputs": [],
   "source": [
    "# mengimport library pandas\n",
    "import pandas as pd\n",
    "\n",
    "# import zipfile library\n",
    "import zipfile\n",
    "\n",
    "# import kaggle library\n",
    "import kaggle"
   ]
  },
  {
   "cell_type": "code",
   "execution_count": 4,
   "metadata": {},
   "outputs": [
    {
     "name": "stdout",
     "output_type": "stream",
     "text": [
      "Downloading london-bike-sharing-dataset.zip to d:\\Data Analysis\\VSCode\\Latihan\\vscode\n",
      "\n"
     ]
    },
    {
     "name": "stderr",
     "output_type": "stream",
     "text": [
      "\n",
      "  0%|          | 0.00/165k [00:00<?, ?B/s]\n",
      "100%|██████████| 165k/165k [00:00<00:00, 309kB/s]\n",
      "100%|██████████| 165k/165k [00:00<00:00, 298kB/s]\n"
     ]
    }
   ],
   "source": [
    "# mendownload dataset dari kaggle menggunakan kaggle API\n",
    "!kaggle datasets download -d hmavrodiev/london-bike-sharing-dataset"
   ]
  },
  {
   "cell_type": "code",
   "execution_count": 5,
   "metadata": {},
   "outputs": [],
   "source": [
    "# meng-ekstarct file zip yang telah di download\n",
    "zipfile_name = 'london-bike-sharing-dataset.zip'\n",
    "with zipfile.ZipFile(zipfile_name, 'r') as file:\n",
    "    file.extractall()\n"
   ]
  },
  {
   "cell_type": "code",
   "execution_count": 3,
   "metadata": {},
   "outputs": [],
   "source": [
    "# membaca file csv kedalam pandas dataframe\n",
    "bikes = pd.read_csv(\"london_merged.csv\")"
   ]
  },
  {
   "cell_type": "code",
   "execution_count": 4,
   "metadata": {},
   "outputs": [
    {
     "name": "stdout",
     "output_type": "stream",
     "text": [
      "<class 'pandas.core.frame.DataFrame'>\n",
      "RangeIndex: 17414 entries, 0 to 17413\n",
      "Data columns (total 10 columns):\n",
      " #   Column        Non-Null Count  Dtype  \n",
      "---  ------        --------------  -----  \n",
      " 0   timestamp     17414 non-null  object \n",
      " 1   cnt           17414 non-null  int64  \n",
      " 2   t1            17414 non-null  float64\n",
      " 3   t2            17414 non-null  float64\n",
      " 4   hum           17414 non-null  float64\n",
      " 5   wind_speed    17414 non-null  float64\n",
      " 6   weather_code  17414 non-null  float64\n",
      " 7   is_holiday    17414 non-null  float64\n",
      " 8   is_weekend    17414 non-null  float64\n",
      " 9   season        17414 non-null  float64\n",
      "dtypes: float64(8), int64(1), object(1)\n",
      "memory usage: 1.3+ MB\n"
     ]
    }
   ],
   "source": [
    "# explore data / melihat susunan data yang ada di tabel\n",
    "bikes.info()"
   ]
  },
  {
   "cell_type": "code",
   "execution_count": 5,
   "metadata": {},
   "outputs": [
    {
     "data": {
      "text/plain": [
       "(17414, 10)"
      ]
     },
     "execution_count": 5,
     "metadata": {},
     "output_type": "execute_result"
    }
   ],
   "source": [
    "# untuk melihat berapanyak column dan row yang ada (colimn, row)\n",
    "bikes.shape"
   ]
  },
  {
   "cell_type": "code",
   "execution_count": 6,
   "metadata": {},
   "outputs": [
    {
     "data": {
      "text/html": [
       "<div>\n",
       "<style scoped>\n",
       "    .dataframe tbody tr th:only-of-type {\n",
       "        vertical-align: middle;\n",
       "    }\n",
       "\n",
       "    .dataframe tbody tr th {\n",
       "        vertical-align: top;\n",
       "    }\n",
       "\n",
       "    .dataframe thead th {\n",
       "        text-align: right;\n",
       "    }\n",
       "</style>\n",
       "<table border=\"1\" class=\"dataframe\">\n",
       "  <thead>\n",
       "    <tr style=\"text-align: right;\">\n",
       "      <th></th>\n",
       "      <th>timestamp</th>\n",
       "      <th>cnt</th>\n",
       "      <th>t1</th>\n",
       "      <th>t2</th>\n",
       "      <th>hum</th>\n",
       "      <th>wind_speed</th>\n",
       "      <th>weather_code</th>\n",
       "      <th>is_holiday</th>\n",
       "      <th>is_weekend</th>\n",
       "      <th>season</th>\n",
       "    </tr>\n",
       "  </thead>\n",
       "  <tbody>\n",
       "    <tr>\n",
       "      <th>0</th>\n",
       "      <td>2015-01-04 00:00:00</td>\n",
       "      <td>182</td>\n",
       "      <td>3.0</td>\n",
       "      <td>2.0</td>\n",
       "      <td>93.0</td>\n",
       "      <td>6.0</td>\n",
       "      <td>3.0</td>\n",
       "      <td>0.0</td>\n",
       "      <td>1.0</td>\n",
       "      <td>3.0</td>\n",
       "    </tr>\n",
       "    <tr>\n",
       "      <th>1</th>\n",
       "      <td>2015-01-04 01:00:00</td>\n",
       "      <td>138</td>\n",
       "      <td>3.0</td>\n",
       "      <td>2.5</td>\n",
       "      <td>93.0</td>\n",
       "      <td>5.0</td>\n",
       "      <td>1.0</td>\n",
       "      <td>0.0</td>\n",
       "      <td>1.0</td>\n",
       "      <td>3.0</td>\n",
       "    </tr>\n",
       "    <tr>\n",
       "      <th>2</th>\n",
       "      <td>2015-01-04 02:00:00</td>\n",
       "      <td>134</td>\n",
       "      <td>2.5</td>\n",
       "      <td>2.5</td>\n",
       "      <td>96.5</td>\n",
       "      <td>0.0</td>\n",
       "      <td>1.0</td>\n",
       "      <td>0.0</td>\n",
       "      <td>1.0</td>\n",
       "      <td>3.0</td>\n",
       "    </tr>\n",
       "    <tr>\n",
       "      <th>3</th>\n",
       "      <td>2015-01-04 03:00:00</td>\n",
       "      <td>72</td>\n",
       "      <td>2.0</td>\n",
       "      <td>2.0</td>\n",
       "      <td>100.0</td>\n",
       "      <td>0.0</td>\n",
       "      <td>1.0</td>\n",
       "      <td>0.0</td>\n",
       "      <td>1.0</td>\n",
       "      <td>3.0</td>\n",
       "    </tr>\n",
       "    <tr>\n",
       "      <th>4</th>\n",
       "      <td>2015-01-04 04:00:00</td>\n",
       "      <td>47</td>\n",
       "      <td>2.0</td>\n",
       "      <td>0.0</td>\n",
       "      <td>93.0</td>\n",
       "      <td>6.5</td>\n",
       "      <td>1.0</td>\n",
       "      <td>0.0</td>\n",
       "      <td>1.0</td>\n",
       "      <td>3.0</td>\n",
       "    </tr>\n",
       "    <tr>\n",
       "      <th>...</th>\n",
       "      <td>...</td>\n",
       "      <td>...</td>\n",
       "      <td>...</td>\n",
       "      <td>...</td>\n",
       "      <td>...</td>\n",
       "      <td>...</td>\n",
       "      <td>...</td>\n",
       "      <td>...</td>\n",
       "      <td>...</td>\n",
       "      <td>...</td>\n",
       "    </tr>\n",
       "    <tr>\n",
       "      <th>17409</th>\n",
       "      <td>2017-01-03 19:00:00</td>\n",
       "      <td>1042</td>\n",
       "      <td>5.0</td>\n",
       "      <td>1.0</td>\n",
       "      <td>81.0</td>\n",
       "      <td>19.0</td>\n",
       "      <td>3.0</td>\n",
       "      <td>0.0</td>\n",
       "      <td>0.0</td>\n",
       "      <td>3.0</td>\n",
       "    </tr>\n",
       "    <tr>\n",
       "      <th>17410</th>\n",
       "      <td>2017-01-03 20:00:00</td>\n",
       "      <td>541</td>\n",
       "      <td>5.0</td>\n",
       "      <td>1.0</td>\n",
       "      <td>81.0</td>\n",
       "      <td>21.0</td>\n",
       "      <td>4.0</td>\n",
       "      <td>0.0</td>\n",
       "      <td>0.0</td>\n",
       "      <td>3.0</td>\n",
       "    </tr>\n",
       "    <tr>\n",
       "      <th>17411</th>\n",
       "      <td>2017-01-03 21:00:00</td>\n",
       "      <td>337</td>\n",
       "      <td>5.5</td>\n",
       "      <td>1.5</td>\n",
       "      <td>78.5</td>\n",
       "      <td>24.0</td>\n",
       "      <td>4.0</td>\n",
       "      <td>0.0</td>\n",
       "      <td>0.0</td>\n",
       "      <td>3.0</td>\n",
       "    </tr>\n",
       "    <tr>\n",
       "      <th>17412</th>\n",
       "      <td>2017-01-03 22:00:00</td>\n",
       "      <td>224</td>\n",
       "      <td>5.5</td>\n",
       "      <td>1.5</td>\n",
       "      <td>76.0</td>\n",
       "      <td>23.0</td>\n",
       "      <td>4.0</td>\n",
       "      <td>0.0</td>\n",
       "      <td>0.0</td>\n",
       "      <td>3.0</td>\n",
       "    </tr>\n",
       "    <tr>\n",
       "      <th>17413</th>\n",
       "      <td>2017-01-03 23:00:00</td>\n",
       "      <td>139</td>\n",
       "      <td>5.0</td>\n",
       "      <td>1.0</td>\n",
       "      <td>76.0</td>\n",
       "      <td>22.0</td>\n",
       "      <td>2.0</td>\n",
       "      <td>0.0</td>\n",
       "      <td>0.0</td>\n",
       "      <td>3.0</td>\n",
       "    </tr>\n",
       "  </tbody>\n",
       "</table>\n",
       "<p>17414 rows × 10 columns</p>\n",
       "</div>"
      ],
      "text/plain": [
       "                 timestamp   cnt   t1   t2    hum  wind_speed  weather_code   \n",
       "0      2015-01-04 00:00:00   182  3.0  2.0   93.0         6.0           3.0  \\\n",
       "1      2015-01-04 01:00:00   138  3.0  2.5   93.0         5.0           1.0   \n",
       "2      2015-01-04 02:00:00   134  2.5  2.5   96.5         0.0           1.0   \n",
       "3      2015-01-04 03:00:00    72  2.0  2.0  100.0         0.0           1.0   \n",
       "4      2015-01-04 04:00:00    47  2.0  0.0   93.0         6.5           1.0   \n",
       "...                    ...   ...  ...  ...    ...         ...           ...   \n",
       "17409  2017-01-03 19:00:00  1042  5.0  1.0   81.0        19.0           3.0   \n",
       "17410  2017-01-03 20:00:00   541  5.0  1.0   81.0        21.0           4.0   \n",
       "17411  2017-01-03 21:00:00   337  5.5  1.5   78.5        24.0           4.0   \n",
       "17412  2017-01-03 22:00:00   224  5.5  1.5   76.0        23.0           4.0   \n",
       "17413  2017-01-03 23:00:00   139  5.0  1.0   76.0        22.0           2.0   \n",
       "\n",
       "       is_holiday  is_weekend  season  \n",
       "0             0.0         1.0     3.0  \n",
       "1             0.0         1.0     3.0  \n",
       "2             0.0         1.0     3.0  \n",
       "3             0.0         1.0     3.0  \n",
       "4             0.0         1.0     3.0  \n",
       "...           ...         ...     ...  \n",
       "17409         0.0         0.0     3.0  \n",
       "17410         0.0         0.0     3.0  \n",
       "17411         0.0         0.0     3.0  \n",
       "17412         0.0         0.0     3.0  \n",
       "17413         0.0         0.0     3.0  \n",
       "\n",
       "[17414 rows x 10 columns]"
      ]
     },
     "execution_count": 6,
     "metadata": {},
     "output_type": "execute_result"
    }
   ],
   "source": [
    "# untuk melihat gambaran isi dari tabel yang digunakan\n",
    "bikes"
   ]
  },
  {
   "cell_type": "code",
   "execution_count": 7,
   "metadata": {},
   "outputs": [
    {
     "data": {
      "text/plain": [
       "weather_code\n",
       "1.0     6150\n",
       "2.0     4034\n",
       "3.0     3551\n",
       "7.0     2141\n",
       "4.0     1464\n",
       "26.0      60\n",
       "10.0      14\n",
       "Name: count, dtype: int64"
      ]
     },
     "execution_count": 7,
     "metadata": {},
     "output_type": "execute_result"
    }
   ],
   "source": [
    "# value_count() = digunakan untuk melihat berapa banyak nilai dari value yang sama (value, Jumlah Value)\n",
    "bikes.weather_code.value_counts()"
   ]
  },
  {
   "cell_type": "code",
   "execution_count": 8,
   "metadata": {},
   "outputs": [
    {
     "data": {
      "text/plain": [
       "season\n",
       "0.0    4394\n",
       "1.0    4387\n",
       "3.0    4330\n",
       "2.0    4303\n",
       "Name: count, dtype: int64"
      ]
     },
     "execution_count": 8,
     "metadata": {},
     "output_type": "execute_result"
    }
   ],
   "source": [
    "bikes.season.value_counts()"
   ]
  },
  {
   "cell_type": "code",
   "execution_count": 9,
   "metadata": {},
   "outputs": [],
   "source": [
    "# membuat lebih spesifik nama dari column yang ingin di gunakan\n",
    "new_cols_dic ={\n",
    "    'timestamp':'time',\n",
    "    'cnt':'count',\n",
    "    't1':'temp_real_C',\n",
    "    't2':'temp_feels_like_C',\n",
    "    'hum':'humidity_percent',\n",
    "    'wind_speed':'wind_speed_kph',\n",
    "    'weather_code':'weather',\n",
    "    'is_holiday':'is_holiday',\n",
    "    'is_weekend':'is_weekend',\n",
    "    'season':'season'\n",
    "}\n",
    "\n",
    "# mengubah nama column menjadi lebih spesifik\n",
    "# axis = 1 (1 digunakan untuk mengubah jajaran column, 0 digunakan mengubah baris dan merupakan default)\n",
    "bikes.rename(new_cols_dic, axis=1, inplace=True)"
   ]
  },
  {
   "cell_type": "code",
   "execution_count": 10,
   "metadata": {},
   "outputs": [],
   "source": [
    "# mengubah the humidity values to persentage (i.e. a value between 0 and 1)\n",
    "bikes.humidity_percent = bikes.humidity_percent / 100"
   ]
  },
  {
   "cell_type": "code",
   "execution_count": 11,
   "metadata": {},
   "outputs": [],
   "source": [
    "# membuat dictionary untuk values column 'season' menjadi values yang sebenarnya\n",
    "season_dict = {\n",
    "    '0.0':'spring',\n",
    "    '1.0':'summer',\n",
    "    '2.0':'autum',\n",
    "    '3.0':'winter'\n",
    "}\n",
    "\n",
    "# hal yang sama untuk values pada column 'weather'\n",
    "weather_dict = {\n",
    "    '1.0':'clear',\n",
    "    '2.0':'scattered clouds',\n",
    "    '3.0':'broken clouds',\n",
    "    '4.0':'cloudy',\n",
    "    '10.0':'rain with thunderstorm',\n",
    "    '26.0':'snowfall'\n",
    "}\n",
    "\n",
    "# ubah datatype season tersebut menjadi string\n",
    "bikes.season = bikes.season.astype('str')\n",
    "# ubah values season menjadi dictionary yang sudah di tulis diatas\n",
    "bikes.season = bikes.season.map(season_dict)\n",
    "\n",
    "#lakukan hal yang sama dengan perubahan kedua diatas\n",
    "bikes.weather = bikes.weather.astype('str')\n",
    "bikes.weather = bikes.weather.map(weather_dict)"
   ]
  },
  {
   "cell_type": "code",
   "execution_count": 12,
   "metadata": {},
   "outputs": [
    {
     "data": {
      "text/html": [
       "<div>\n",
       "<style scoped>\n",
       "    .dataframe tbody tr th:only-of-type {\n",
       "        vertical-align: middle;\n",
       "    }\n",
       "\n",
       "    .dataframe tbody tr th {\n",
       "        vertical-align: top;\n",
       "    }\n",
       "\n",
       "    .dataframe thead th {\n",
       "        text-align: right;\n",
       "    }\n",
       "</style>\n",
       "<table border=\"1\" class=\"dataframe\">\n",
       "  <thead>\n",
       "    <tr style=\"text-align: right;\">\n",
       "      <th></th>\n",
       "      <th>time</th>\n",
       "      <th>count</th>\n",
       "      <th>temp_real_C</th>\n",
       "      <th>temp_feels_like_C</th>\n",
       "      <th>humidity_percent</th>\n",
       "      <th>wind_speed_kph</th>\n",
       "      <th>weather</th>\n",
       "      <th>is_holiday</th>\n",
       "      <th>is_weekend</th>\n",
       "      <th>season</th>\n",
       "    </tr>\n",
       "  </thead>\n",
       "  <tbody>\n",
       "    <tr>\n",
       "      <th>0</th>\n",
       "      <td>2015-01-04 00:00:00</td>\n",
       "      <td>182</td>\n",
       "      <td>3.0</td>\n",
       "      <td>2.0</td>\n",
       "      <td>0.930</td>\n",
       "      <td>6.0</td>\n",
       "      <td>broken clouds</td>\n",
       "      <td>0.0</td>\n",
       "      <td>1.0</td>\n",
       "      <td>winter</td>\n",
       "    </tr>\n",
       "    <tr>\n",
       "      <th>1</th>\n",
       "      <td>2015-01-04 01:00:00</td>\n",
       "      <td>138</td>\n",
       "      <td>3.0</td>\n",
       "      <td>2.5</td>\n",
       "      <td>0.930</td>\n",
       "      <td>5.0</td>\n",
       "      <td>clear</td>\n",
       "      <td>0.0</td>\n",
       "      <td>1.0</td>\n",
       "      <td>winter</td>\n",
       "    </tr>\n",
       "    <tr>\n",
       "      <th>2</th>\n",
       "      <td>2015-01-04 02:00:00</td>\n",
       "      <td>134</td>\n",
       "      <td>2.5</td>\n",
       "      <td>2.5</td>\n",
       "      <td>0.965</td>\n",
       "      <td>0.0</td>\n",
       "      <td>clear</td>\n",
       "      <td>0.0</td>\n",
       "      <td>1.0</td>\n",
       "      <td>winter</td>\n",
       "    </tr>\n",
       "    <tr>\n",
       "      <th>3</th>\n",
       "      <td>2015-01-04 03:00:00</td>\n",
       "      <td>72</td>\n",
       "      <td>2.0</td>\n",
       "      <td>2.0</td>\n",
       "      <td>1.000</td>\n",
       "      <td>0.0</td>\n",
       "      <td>clear</td>\n",
       "      <td>0.0</td>\n",
       "      <td>1.0</td>\n",
       "      <td>winter</td>\n",
       "    </tr>\n",
       "    <tr>\n",
       "      <th>4</th>\n",
       "      <td>2015-01-04 04:00:00</td>\n",
       "      <td>47</td>\n",
       "      <td>2.0</td>\n",
       "      <td>0.0</td>\n",
       "      <td>0.930</td>\n",
       "      <td>6.5</td>\n",
       "      <td>clear</td>\n",
       "      <td>0.0</td>\n",
       "      <td>1.0</td>\n",
       "      <td>winter</td>\n",
       "    </tr>\n",
       "  </tbody>\n",
       "</table>\n",
       "</div>"
      ],
      "text/plain": [
       "                  time  count  temp_real_C  temp_feels_like_C   \n",
       "0  2015-01-04 00:00:00    182          3.0                2.0  \\\n",
       "1  2015-01-04 01:00:00    138          3.0                2.5   \n",
       "2  2015-01-04 02:00:00    134          2.5                2.5   \n",
       "3  2015-01-04 03:00:00     72          2.0                2.0   \n",
       "4  2015-01-04 04:00:00     47          2.0                0.0   \n",
       "\n",
       "   humidity_percent  wind_speed_kph        weather  is_holiday  is_weekend   \n",
       "0             0.930             6.0  broken clouds         0.0         1.0  \\\n",
       "1             0.930             5.0          clear         0.0         1.0   \n",
       "2             0.965             0.0          clear         0.0         1.0   \n",
       "3             1.000             0.0          clear         0.0         1.0   \n",
       "4             0.930             6.5          clear         0.0         1.0   \n",
       "\n",
       "   season  \n",
       "0  winter  \n",
       "1  winter  \n",
       "2  winter  \n",
       "3  winter  \n",
       "4  winter  "
      ]
     },
     "execution_count": 12,
     "metadata": {},
     "output_type": "execute_result"
    }
   ],
   "source": [
    "bikes.head()"
   ]
  },
  {
   "cell_type": "code",
   "execution_count": 15,
   "metadata": {},
   "outputs": [],
   "source": [
    "# writing the final dataframe to an excel file that we will use in our tableau visualization. the fill will be the 'london-bike-sharing-dataset.xlsx\n",
    "bikes.to_excel('london_bikes_final.xlsx', sheet_name='Data')"
   ]
  }
 ],
 "metadata": {
  "kernelspec": {
   "display_name": "Python 3",
   "language": "python",
   "name": "python3"
  },
  "language_info": {
   "codemirror_mode": {
    "name": "ipython",
    "version": 3
   },
   "file_extension": ".py",
   "mimetype": "text/x-python",
   "name": "python",
   "nbconvert_exporter": "python",
   "pygments_lexer": "ipython3",
   "version": "3.11.2"
  },
  "orig_nbformat": 4
 },
 "nbformat": 4,
 "nbformat_minor": 2
}
